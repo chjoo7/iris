{
 "cells": [
  {
   "cell_type": "markdown",
   "metadata": {
    "id": "1Z6Wtb_jisbA"
   },
   "source": [
    "### iris Pytorch "
   ]
  },
  {
   "cell_type": "code",
   "execution_count": 1,
   "metadata": {
    "cellView": "form",
    "id": "QUyRGn9riopB"
   },
   "outputs": [],
   "source": [
    "%matplotlib inline\n",
    "import matplotlib.pyplot as plt\n",
    "import numpy as np\n",
    "#Define the model \n",
    "import torch\n",
    "import torch.nn as nn\n",
    "import torch.utils.data as utils\n",
    "import torch.utils.data as td\n",
    "import torch.nn.functional as F\n",
    "from sklearn import datasets\n",
    "from sklearn.metrics import accuracy_score\n",
    "from sklearn.model_selection import train_test_split"
   ]
  },
  {
   "cell_type": "code",
   "execution_count": 2,
   "metadata": {},
   "outputs": [],
   "source": [
    "iris = datasets.load_iris()"
   ]
  },
  {
   "cell_type": "code",
   "execution_count": 3,
   "metadata": {},
   "outputs": [
    {
     "name": "stdout",
     "output_type": "stream",
     "text": [
      "Training Set: 90, Test Set: 60 \n",
      "\n",
      "Sample of features and labels:\n",
      "(features:  ['sepal length (cm)', 'sepal width (cm)', 'petal length (cm)', 'petal width (cm)'] )\n"
     ]
    }
   ],
   "source": [
    "# Split data 70%-30% into training set and test set\n",
    "x_train, x_test, y_train, y_test = train_test_split(iris.data, iris.target, test_size=0.40, random_state=0)\n",
    "\n",
    "print ('Training Set: %d, Test Set: %d \\n' % (len(x_train), len(x_test)))\n",
    "print(\"Sample of features and labels:\")\n",
    "print('(features: ',iris.feature_names, ')')\n"
   ]
  },
  {
   "cell_type": "code",
   "execution_count": 4,
   "metadata": {},
   "outputs": [
    {
     "name": "stdout",
     "output_type": "stream",
     "text": [
      "[6.  3.4 4.5 1.6] 1 (versicolor)\n",
      "[4.8 3.1 1.6 0.2] 0 (setosa)\n",
      "[5.8 2.7 5.1 1.9] 2 (virginica)\n",
      "[5.6 2.7 4.2 1.3] 1 (versicolor)\n",
      "[5.6 2.9 3.6 1.3] 1 (versicolor)\n",
      "[5.5 2.5 4.  1.3] 1 (versicolor)\n",
      "[6.1 3.  4.6 1.4] 1 (versicolor)\n",
      "[7.2 3.2 6.  1.8] 2 (virginica)\n",
      "[5.3 3.7 1.5 0.2] 0 (setosa)\n",
      "[4.3 3.  1.1 0.1] 0 (setosa)\n",
      "[6.4 2.7 5.3 1.9] 2 (virginica)\n",
      "[5.7 3.  4.2 1.2] 1 (versicolor)\n",
      "[5.4 3.4 1.7 0.2] 0 (setosa)\n",
      "[5.7 4.4 1.5 0.4] 0 (setosa)\n",
      "[6.9 3.1 4.9 1.5] 1 (versicolor)\n",
      "[4.6 3.1 1.5 0.2] 0 (setosa)\n",
      "[5.9 3.  5.1 1.8] 2 (virginica)\n",
      "[5.1 2.5 3.  1.1] 1 (versicolor)\n",
      "[4.6 3.4 1.4 0.3] 0 (setosa)\n",
      "[6.2 2.2 4.5 1.5] 1 (versicolor)\n",
      "[7.2 3.6 6.1 2.5] 2 (virginica)\n",
      "[5.7 2.9 4.2 1.3] 1 (versicolor)\n",
      "[4.8 3.  1.4 0.1] 0 (setosa)\n",
      "[7.1 3.  5.9 2.1] 2 (virginica)\n"
     ]
    }
   ],
   "source": [
    "# Take a look at the first 25 training features and corresponding labels\n",
    "for n in range(0,24):\n",
    "    print(x_train[n], y_train[n], '(' + iris.target_names[y_train[n]] + ')')"
   ]
  },
  {
   "cell_type": "code",
   "execution_count": 5,
   "metadata": {},
   "outputs": [
    {
     "name": "stdout",
     "output_type": "stream",
     "text": [
      "Libraries imported - ready to use PyTorch 1.3.0\n"
     ]
    }
   ],
   "source": [
    "print(\"Libraries imported - ready to use PyTorch\", torch.__version__)"
   ]
  },
  {
   "cell_type": "code",
   "execution_count": 6,
   "metadata": {
    "id": "jPo5bQwndr9P"
   },
   "outputs": [
    {
     "data": {
      "text/plain": [
       "'P102-100'"
      ]
     },
     "execution_count": 6,
     "metadata": {},
     "output_type": "execute_result"
    }
   ],
   "source": [
    "torch.cuda.get_device_name(0)"
   ]
  },
  {
   "cell_type": "markdown",
   "metadata": {},
   "source": [
    "### Prepare the Data for Pytorch\n",
    "PyTorch makes use of _data loaders_ to load training and validation data in batches. We've already loaded the data into NumPy arrays, but we need to wrap those in PyTorch datasets (in which the data is converted to PyTorch tensor objects) and create loaders to read batches from those datasets."
   ]
  },
  {
   "cell_type": "code",
   "execution_count": 7,
   "metadata": {
    "id": "lSyrXp_He_UE"
   },
   "outputs": [],
   "source": [
    "# Create a dataset and loader for the training data and labels\n",
    "train_x = torch.Tensor(x_train).float()\n",
    "train_y = torch.Tensor(y_train).long()\n",
    "train_ds = utils.TensorDataset(train_x,train_y)\n",
    "train_loader = td.DataLoader(train_ds, batch_size=10,\n",
    "    shuffle=False, num_workers=1)"
   ]
  },
  {
   "cell_type": "code",
   "execution_count": 8,
   "metadata": {},
   "outputs": [],
   "source": [
    "# Create a dataset and loader for the test data and labels\n",
    "test_x = torch.Tensor(x_test).float()\n",
    "test_y = torch.Tensor(y_test).long()\n",
    "test_ds = utils.TensorDataset(test_x,test_y)\n",
    "test_loader = td.DataLoader(test_ds, batch_size=10,\n",
    "    shuffle=False, num_workers=1)\n"
   ]
  },
  {
   "cell_type": "code",
   "execution_count": 9,
   "metadata": {},
   "outputs": [
    {
     "name": "stdout",
     "output_type": "stream",
     "text": [
      "Loaders ready\n"
     ]
    }
   ],
   "source": [
    "print(\"Loaders ready\")"
   ]
  },
  {
   "cell_type": "markdown",
   "metadata": {
    "id": "PumyCN8VdGGc"
   },
   "source": [
    "### Define a Neural Network\n",
    "Now we're ready to define our neural network. In this case, we'll create a network that consists of 3 fully-connected layers:\n",
    "\n",
    "- An input layer that receives four input values (the iris features) and applies a ReLU activation function.\n",
    "- A hidden layer that receives ten inputs and applies a ReLU activation function.\n",
    "- An output layer that uses a SoftMax activation function to generate three outputs (which represent the probabilities for the three iris species)                                "
   ]
  },
  {
   "cell_type": "code",
   "execution_count": 10,
   "metadata": {
    "id": "WOJt-ML4hAwI"
   },
   "outputs": [],
   "source": [
    "# Number of hidden layer nodes\n",
    "hl = 10"
   ]
  },
  {
   "cell_type": "code",
   "execution_count": 11,
   "metadata": {
    "id": "zM0wz2TueuA6"
   },
   "outputs": [
    {
     "name": "stdout",
     "output_type": "stream",
     "text": [
      "Executing the model on : cuda:0\n"
     ]
    }
   ],
   "source": [
    "device = torch.device(\"cuda:0\" if torch.cuda.is_available() else \"cpu\")\n",
    "# Assume that we are on a CUDA machine, then this should print a CUDA device:\n",
    "print(\"Executing the model on :\",device)\n",
    "\n",
    "# Define the neural network\n",
    "class IrisNet(nn.Module):\n",
    "    def __init__(self):\n",
    "        super(IrisNet, self).__init__()\n",
    "        self.fc1 = nn.Linear(4, hl)\n",
    "        self.fc2 = nn.Linear(hl, hl)\n",
    "        self.fc3 = nn.Linear(hl, 3)\n",
    "\n",
    "    def forward(self, x):\n",
    "        x = torch.relu(self.fc1(x))\n",
    "        x = torch.relu(self.fc2(x))\n",
    "        x = torch.softmax(self.fc3(x),dim=1)\n",
    "        return x"
   ]
  },
  {
   "cell_type": "code",
   "execution_count": 12,
   "metadata": {
    "id": "jZx1L_1Vcmxv"
   },
   "outputs": [
    {
     "name": "stdout",
     "output_type": "stream",
     "text": [
      "IrisNet(\n",
      "  (fc1): Linear(in_features=4, out_features=10, bias=True)\n",
      "  (fc2): Linear(in_features=10, out_features=10, bias=True)\n",
      "  (fc3): Linear(in_features=10, out_features=3, bias=True)\n",
      ")\n"
     ]
    }
   ],
   "source": [
    "# Create a model instance from the network\n",
    "model = IrisNet()\n",
    "print(model)"
   ]
  },
  {
   "cell_type": "markdown",
   "metadata": {
    "id": "2OcguDfBcmmg"
   },
   "source": [
    "### Train the Model¶\n",
    "To train the model, we need to repeatedly feed the training values forward through the network, use a loss function to calculate the loss, use an optimizer to backpropagate the weight and bias value adjustments, and validate the model using the test data we withheld.\n",
    "\n",
    "To do this, we'll create a function to train and optimize the model, and function to test the model. Then we'll call these functions iteratively over 100 epochs, logging the loss and accuracy statistics for each epoch."
   ]
  },
  {
   "cell_type": "code",
   "execution_count": 13,
   "metadata": {
    "id": "nzr5vRr5caGF"
   },
   "outputs": [],
   "source": [
    "def train(model, data_loader, optimizer):\n",
    "    # Set the model to training mode\n",
    "    model.train()\n",
    "    train_loss = 0\n",
    "    \n",
    "    for batch, tensor in enumerate(data_loader):\n",
    "        data, target = tensor\n",
    "        #feedforward\n",
    "        optimizer.zero_grad()\n",
    "        out = model(data)\n",
    "        loss = loss_criteria(out, target)\n",
    "        train_loss += loss.item()\n",
    "\n",
    "        # backpropagate\n",
    "        loss.backward()\n",
    "        optimizer.step()\n",
    "\n",
    "    #Return loss\n",
    "    avg_loss = train_loss / len(data_loader.dataset)\n",
    "    return avg_loss"
   ]
  },
  {
   "cell_type": "code",
   "execution_count": 14,
   "metadata": {
    "id": "NpXvGjfnjHgY"
   },
   "outputs": [],
   "source": [
    "def test(model, data_loader):\n",
    "    # Switch the model to evaluation mode (so we don't backpropagate)\n",
    "    model.eval()\n",
    "    test_loss = 0\n",
    "    correct = 0\n",
    "\n",
    "    with torch.no_grad():\n",
    "        for batch, tensor in enumerate(data_loader):\n",
    "            data, target = tensor\n",
    "            # Get the predictions\n",
    "            out = model(data)\n",
    "\n",
    "            # calculate the loss\n",
    "            test_loss += loss_criteria(out, target).item()\n",
    "\n",
    "            # Calculate the accuracy\n",
    "            _, predicted = torch.max(out.data, 1)\n",
    "            correct += torch.sum(target==predicted).item()\n",
    "            \n",
    "    # return validation loss and prediction accuracy for the epoch\n",
    "    avg_accuracy = correct / len(data_loader.dataset)\n",
    "    avg_loss = test_loss / len(data_loader.dataset)\n",
    "    return avg_loss, avg_accuracy\n",
    " \n"
   ]
  },
  {
   "cell_type": "code",
   "execution_count": 15,
   "metadata": {
    "id": "T20u1anCi8NP"
   },
   "outputs": [],
   "source": [
    "# Specify the loss criteria (CrossEntropyLoss for multi-class classification)\n",
    "loss_criteria = nn.CrossEntropyLoss()\n",
    "\n"
   ]
  },
  {
   "cell_type": "code",
   "execution_count": 16,
   "metadata": {},
   "outputs": [],
   "source": [
    "# Specify the optimizer (we'll use a Stochastic Gradient Descent optimizer)\n",
    "learning_rate = 0.01\n",
    "learning_momentum = 0.9\n",
    "optimizer = torch.optim.SGD(model.parameters(), lr=learning_rate, momentum=learning_momentum)"
   ]
  },
  {
   "cell_type": "code",
   "execution_count": 17,
   "metadata": {},
   "outputs": [],
   "source": [
    "# We'll track metrics for each epoch in these arrays\n",
    "epoch_nums = []\n",
    "training_loss = []\n",
    "validation_loss = []\n"
   ]
  },
  {
   "cell_type": "code",
   "execution_count": 18,
   "metadata": {
    "id": "xIwcFT4MlZEi"
   },
   "outputs": [
    {
     "name": "stdout",
     "output_type": "stream",
     "text": [
      "Epoch 10: Training loss= 0.0880, Validation loss= 0.0916, Accuracy=61.6667%\n",
      "Epoch 20: Training loss= 0.0738, Validation loss= 0.0774, Accuracy=85.0000%\n",
      "Epoch 30: Training loss= 0.0657, Validation loss= 0.0666, Accuracy=93.3333%\n",
      "Epoch 40: Training loss= 0.0621, Validation loss= 0.0628, Accuracy=95.0000%\n",
      "Epoch 50: Training loss= 0.0604, Validation loss= 0.0611, Accuracy=96.6667%\n",
      "Epoch 60: Training loss= 0.0595, Validation loss= 0.0603, Accuracy=96.6667%\n",
      "Epoch 70: Training loss= 0.0591, Validation loss= 0.0599, Accuracy=96.6667%\n",
      "Epoch 80: Training loss= 0.0589, Validation loss= 0.0603, Accuracy=95.0000%\n",
      "Epoch 90: Training loss= 0.0581, Validation loss= 0.0596, Accuracy=98.3333%\n",
      "Epoch 100: Training loss= 0.0581, Validation loss= 0.0593, Accuracy=96.6667%\n"
     ]
    }
   ],
   "source": [
    "# Train over 100 epochs\n",
    "epochs = 100\n",
    "for epoch in range(1, epochs + 1):\n",
    "    \n",
    "    # Feed the training data into the model to optimize the weights\n",
    "    train_loss = train(model, train_loader, optimizer)\n",
    "    \n",
    "    # Feed the test data into the model to check its performance\n",
    "    test_loss, accuracy = test(model, test_loader)\n",
    "    \n",
    "    # Log the metrcs for this epoch\n",
    "    epoch_nums.append(epoch)\n",
    "    training_loss.append(train_loss)\n",
    "    validation_loss.append(test_loss)\n",
    "    \n",
    "    # Print stats for every 10th epoch so we can see training progress\n",
    "    if (epoch) % 10 == 0:\n",
    "        print('Epoch {:d}: Training loss= {:.4f}, Validation loss= {:.4f}, Accuracy={:.4%}'.format(epoch, train_loss, test_loss, accuracy))"
   ]
  },
  {
   "cell_type": "markdown",
   "metadata": {
    "id": "jpKkhMoZljco"
   },
   "source": [
    "### Review Training and Validation Loss¶\n",
    "After training is complete, we can examine the loss metrics we recorded while training and validating the model. We're really looking for two things:\n",
    "\n",
    "The loss should reduce with each epoch, showing that the model is learning the right weights and biases to predict the correct labels.\n",
    "The training loss and validations loss should follow a similar trend, showing that the model is not overfitting to the training data.\n",
    "Let's plot the loss metrics and see:"
   ]
  },
  {
   "cell_type": "code",
   "execution_count": 19,
   "metadata": {},
   "outputs": [
    {
     "data": {
      "image/png": "[encoded data removed]",
      "text/plain": [
       "<Figure size 432x288 with 1 Axes>"
      ]
     },
     "metadata": {
      "needs_background": "light"
     },
     "output_type": "display_data"
    }
   ],
   "source": [
    "%matplotlib inline\n",
    "from matplotlib import pyplot as plt\n",
    "\n",
    "plt.plot(epoch_nums, training_loss)\n",
    "plt.plot(epoch_nums, validation_loss)\n",
    "plt.xlabel('epoch')\n",
    "plt.ylabel('loss')\n",
    "plt.legend(['training', 'validation'], loc='upper right')\n",
    "plt.show()"
   ]
  },
  {
   "cell_type": "markdown",
   "metadata": {},
   "source": [
    "### View the Learned Weights and Biases¶\n",
    "The trained model consists of the final weights and biases that were determined by the optimizer during training. Based on our network model we should expect the following values for each layer:\n",
    "\n",
    "* Layer 1: There are four input values going to ten output nodes, so there should be 10 x 4 weights and 10 bias values.\n",
    "* Layer 2: There are ten input values going to ten output nodes, so there should be 10 x 10 weights and 10 bias values.\n",
    "* Layer 3: There are ten input values going to three output nodes, so there should be 3 x 10 weights and 3 bias values."
   ]
  },
  {
   "cell_type": "code",
   "execution_count": 20,
   "metadata": {},
   "outputs": [
    {
     "name": "stdout",
     "output_type": "stream",
     "text": [
      "fc1.weight \n",
      " [[ 0.7827688   0.01950931  0.3165727  -0.54405993]\n",
      " [ 0.03756158 -0.2736474   0.18251368  0.13078955]\n",
      " [-0.05947161 -0.27236345  0.7997254   0.30942726]\n",
      " [-0.0642789  -0.2883746   0.03579289  0.01822281]\n",
      " [ 0.46551785  0.42747468 -0.34914517 -0.42913535]\n",
      " [ 0.9307589   0.6958349  -1.1582279  -0.44750574]\n",
      " [-0.41675967  0.3788507  -0.3649776   0.3523246 ]\n",
      " [ 0.36351356 -0.24413237  0.21752827  0.35570437]\n",
      " [-0.19753523 -0.11047829  0.3792388  -0.37689948]\n",
      " [-0.61159843 -0.07407307  1.4278404   1.2208402 ]]\n",
      "fc1.bias \n",
      " [ 0.3985393  -0.36301732 -0.26634976 -0.05941463  0.6902861   0.51783395\n",
      "  0.08423001 -0.40198988  0.09209709 -0.7269945 ]\n",
      "fc2.weight \n",
      " [[-0.37557986  0.2933699   0.21297328 -0.08303306  0.22826883  0.19344842\n",
      "   0.29180083 -0.03570412 -0.28917363  0.00954436]\n",
      " [ 0.76548976 -0.21883103 -0.45206395 -0.30774105  0.7888815   1.1633899\n",
      "   0.00753829  0.04436429  0.21818103 -1.231047  ]\n",
      " [ 0.3128067   0.21057963  0.28520533  0.05154461 -0.19590734 -0.2658019\n",
      "   0.2208927   0.4520408  -0.06175241  1.0345483 ]\n",
      " [ 0.17873919  0.0302738  -0.6337635  -0.10615881  0.10200411  0.7213146\n",
      "   0.28903332 -0.2777325  -0.22717555 -0.53433233]\n",
      " [-0.25675178  0.2934058  -0.26481915 -0.26440045  0.07135108 -0.30120644\n",
      "  -0.12775384  0.27723047 -0.2766067   0.10882866]\n",
      " [ 0.07392243 -0.19808125 -0.2901045  -0.08272587 -0.30649117  0.09537062\n",
      "  -0.03086081  0.06467766  0.13375393 -0.306208  ]\n",
      " [-0.14976169 -0.07080519 -0.2228114  -0.01614821  0.17064983  0.21623805\n",
      "   0.25171778 -0.22154029  0.2889308   0.14167038]\n",
      " [-0.15631855 -0.20089754 -0.02075842  0.00866655 -0.11669022 -0.27757105\n",
      "  -0.13098107 -0.23832873  0.18144605  0.00728744]\n",
      " [ 0.32735628  0.01347479  0.16058108  0.07477897  0.1115119  -0.39863223\n",
      "  -0.14041165  0.01306291  0.1313545   0.18975775]\n",
      " [ 0.26880506 -0.03528402  0.08239117  0.30249676  0.07399154 -0.29549828\n",
      "   0.07211089  0.15135399  0.18002425  0.3603327 ]]\n",
      "fc2.bias \n",
      " [-0.19375691  0.45437682 -0.2169961  -0.14518915  0.20007208 -0.18670139\n",
      " -0.12558845  0.22997317  0.21539795 -0.09456888]\n",
      "fc3.weight \n",
      " [[-0.2841954   0.7834225  -1.0332249   0.97591907 -0.05299553  0.15235114\n",
      "   0.26864335  0.2714261  -0.28136268 -0.16786805]\n",
      " [ 0.1308103   0.8214558  -0.09877221 -0.5637331  -0.19295073  0.10091034\n",
      "   0.07975098  0.1761283   0.21870038  0.36439964]\n",
      " [-0.27809885 -1.5834104   0.73315275 -0.16947992  0.25583908 -0.25354242\n",
      "   0.19318303  0.12581277  0.3213312   0.5959261 ]]\n",
      "fc3.bias \n",
      " [ 0.03178871  0.22940317 -0.57309896]\n"
     ]
    }
   ],
   "source": [
    "for param_tensor in model.state_dict():\n",
    "    print(param_tensor, \"\\n\", model.state_dict()[param_tensor].numpy())"
   ]
  },
  {
   "cell_type": "markdown",
   "metadata": {},
   "source": [
    "### Evaluate Model Performance¶\n",
    "So, is the model any good? The raw accuracy reported from the validation data would seem to indicate that it predicts pretty well; but it's typically useful to dig a little deeper and compare the predictions for each possible class. A common way to visualize the performace of a classification model is to create a confusion matrix that shows a crosstab of correct and incorrect predictions for each class."
   ]
  },
  {
   "cell_type": "code",
   "execution_count": 21,
   "metadata": {
    "id": "kuE59XHEl22K"
   },
   "outputs": [
    {
     "data": {
      "image/png": "[encoded data removed]",
      "text/plain": [
       "<Figure size 432x288 with 2 Axes>"
      ]
     },
     "metadata": {
      "needs_background": "light"
     },
     "output_type": "display_data"
    }
   ],
   "source": [
    "#Pytorch doesn't have a built-in confusion matrix metric, so we'll use SciKit-Learn\n",
    "from sklearn.metrics import confusion_matrix\n",
    "\n",
    "# Set the model to evaluate mode\n",
    "model.eval()\n",
    "\n",
    "# Get predictions for the test data\n",
    "x = torch.Tensor(x_test).float()\n",
    "_, predicted = torch.max(model(x).data, 1)\n",
    "\n",
    "# Plot the confusion matrix\n",
    "cm = confusion_matrix(y_test, predicted.numpy())\n",
    "plt.imshow(cm, interpolation=\"nearest\", cmap=plt.cm.Blues)\n",
    "plt.colorbar()\n",
    "tick_marks = np.arange(len(iris.target_names))\n",
    "plt.xticks(tick_marks, iris.target_names, rotation=45)\n",
    "plt.yticks(tick_marks, iris.target_names)\n",
    "plt.xlabel(\"Predicted Species\")\n",
    "plt.ylabel(\"True Species\")\n",
    "plt.show()"
   ]
  },
  {
   "cell_type": "code",
   "execution_count": null,
   "metadata": {},
   "outputs": [],
   "source": []
  },
  {
   "cell_type": "code",
   "execution_count": null,
   "metadata": {},
   "outputs": [],
   "source": []
  }
 ],
 "metadata": {
  "colab": {
   "collapsed_sections": [],
   "name": "premade.ipynb",
   "toc_visible": true
  },
  "kernelspec": {
   "display_name": "Python 3",
   "language": "python",
   "name": "python3"
  },
  "language_info": {
   "codemirror_mode": {
    "name": "ipython",
    "version": 3
   },
   "file_extension": ".py",
   "mimetype": "text/x-python",
   "name": "python",
   "nbconvert_exporter": "python",
   "pygments_lexer": "ipython3",
   "version": "3.8.3"
  }
 },
 "nbformat": 4,
 "nbformat_minor": 1
}
